{
 "cells": [
  {
   "cell_type": "code",
   "execution_count": 117,
   "id": "1a61de07",
   "metadata": {},
   "outputs": [
    {
     "name": "stdout",
     "output_type": "stream",
     "text": [
      "Requirement already satisfied: requests in c:\\users\\taksa\\anaconda\\lib\\site-packages (2.26.0)\n",
      "Collecting rows[html]\n",
      "  Downloading rows-0.4.1-py2.py3-none-any.whl (65 kB)\n",
      "Requirement already satisfied: charset-normalizer~=2.0.0 in c:\\users\\taksa\\anaconda\\lib\\site-packages (from requests) (2.0.4)\n",
      "Requirement already satisfied: urllib3<1.27,>=1.21.1 in c:\\users\\taksa\\anaconda\\lib\\site-packages (from requests) (1.26.7)\n",
      "Requirement already satisfied: certifi>=2017.4.17 in c:\\users\\taksa\\anaconda\\lib\\site-packages (from requests) (2021.10.8)\n",
      "Requirement already satisfied: idna<4,>=2.5 in c:\\users\\taksa\\anaconda\\lib\\site-packages (from requests) (3.2)\n",
      "Collecting pathlib\n",
      "  Downloading pathlib-1.0.1-py3-none-any.whl (14 kB)\n",
      "Requirement already satisfied: six in c:\\users\\taksa\\anaconda\\lib\\site-packages (from rows[html]) (1.16.0)\n",
      "Requirement already satisfied: unicodecsv in c:\\users\\taksa\\anaconda\\lib\\site-packages (from rows[html]) (0.14.1)\n",
      "Requirement already satisfied: lxml in c:\\users\\taksa\\anaconda\\lib\\site-packages (from rows[html]) (4.6.3)\n",
      "Installing collected packages: pathlib, rows\n",
      "Successfully installed pathlib-1.0.1 rows-0.4.1\n",
      "Note: you may need to restart the kernel to use updated packages.\n"
     ]
    }
   ],
   "source": [
    "pip install requests rows[html]"
   ]
  },
  {
   "cell_type": "code",
   "execution_count": 7,
   "id": "037382cc",
   "metadata": {},
   "outputs": [],
   "source": [
    "from pdfminer.high_level import extract_text\n",
    "import regex as re\n",
    "import PyPDF2\n",
    "import requests\n",
    "import json\n",
    "import numpy as np"
   ]
  },
  {
   "cell_type": "code",
   "execution_count": 2,
   "id": "f8b9a3ca",
   "metadata": {},
   "outputs": [
    {
     "name": "stderr",
     "output_type": "stream",
     "text": [
      "[nltk_data] Downloading package punkt to\n",
      "[nltk_data]     C:\\Users\\taksa\\AppData\\Roaming\\nltk_data...\n",
      "[nltk_data]   Package punkt is already up-to-date!\n",
      "[nltk_data] Downloading package averaged_perceptron_tagger to\n",
      "[nltk_data]     C:\\Users\\taksa\\AppData\\Roaming\\nltk_data...\n",
      "[nltk_data]   Package averaged_perceptron_tagger is already up-to-\n",
      "[nltk_data]       date!\n",
      "[nltk_data] Downloading package maxent_ne_chunker to\n",
      "[nltk_data]     C:\\Users\\taksa\\AppData\\Roaming\\nltk_data...\n",
      "[nltk_data]   Package maxent_ne_chunker is already up-to-date!\n",
      "[nltk_data] Downloading package words to\n",
      "[nltk_data]     C:\\Users\\taksa\\AppData\\Roaming\\nltk_data...\n",
      "[nltk_data]   Package words is already up-to-date!\n"
     ]
    },
    {
     "data": {
      "text/plain": [
       "True"
      ]
     },
     "execution_count": 2,
     "metadata": {},
     "output_type": "execute_result"
    }
   ],
   "source": [
    "import nltk\n",
    "nltk.download('punkt')\n",
    "nltk.download('averaged_perceptron_tagger')\n",
    "nltk.download('maxent_ne_chunker')\n",
    "nltk.download('words')"
   ]
  },
  {
   "cell_type": "code",
   "execution_count": 19,
   "id": "c5cc7870",
   "metadata": {},
   "outputs": [],
   "source": [
    "def extract_text_from_pdf(pdf_path):\n",
    "    return extract_text(pdf_path)\n",
    " \n",
    "texts = extract_text_from_pdf('Samir Tak.pdf').split('\\n')\n"
   ]
  },
  {
   "cell_type": "code",
   "execution_count": 23,
   "id": "8e078aec",
   "metadata": {},
   "outputs": [
    {
     "data": {
      "text/plain": [
       "['SAMIR TAK ',\n",
       " '',\n",
       " 'S o f t w a r e   E n g i n e e r  ',\n",
       " '',\n",
       " 'Summary ',\n",
       " '',\n",
       " 'Adept at using Python, SQL and other programming languages to produce ',\n",
       " 'clean  code.  Well-organized  and  collaborative  team  player  with  strong ',\n",
       " 'communication and analytical abilities. ',\n",
       " 'Projects ',\n",
       " '',\n",
       " 'Pizza Delivery Application  ',\n",
       " 'https://github.com/sameertak/Pizza-Delivery-App ',\n",
       " '',\n",
       " '      (Jan 2022 – Mar 2022) ',\n",
       " '',\n",
       " '•  Designed an Web App for connecting users with staff. ',\n",
       " '',\n",
       " '•  Used and applied Python and Django as well as programming skills ',\n",
       " '',\n",
       " 'to create and test the Project. ',\n",
       " '',\n",
       " '•  Worked  with  a  3-member  research  team  for  accomplishing  the ',\n",
       " '',\n",
       " 'same. ',\n",
       " '',\n",
       " 'Tuberculosis Detector  ',\n",
       " 'https://github.com/sameertak/Tuberculosis-Detection ',\n",
       " '',\n",
       " '    (Mar 2022 – May 2022) ',\n",
       " '',\n",
       " '•  Made  a  Machine  Learning  algorithm  which  helps  to  identify ',\n",
       " '',\n",
       " 'CONTACT ',\n",
       " '',\n",
       " 'PHONE: +91 95125-19226 ',\n",
       " '',\n",
       " 'EMAIL: taksamir08@gmail.com ',\n",
       " '',\n",
       " 'www.linkedin.com/in/samir-tak ',\n",
       " '',\n",
       " 'www.github.com/sameertak ',\n",
       " '',\n",
       " 'samir0951.pythonanywhere.com ',\n",
       " '',\n",
       " 'presence of Tuberculosis. ',\n",
       " '',\n",
       " 'www.kaggle.com/samirtak ',\n",
       " '',\n",
       " 'accuracy of 98%. ',\n",
       " '',\n",
       " '•  Integrated to web using Django. ',\n",
       " '',\n",
       " '•  Learned  and  applied  various  models  which  led  to  achieve  an ',\n",
       " '',\n",
       " 'HOME: Ahmedabad, Gujarat 380013  ',\n",
       " '',\n",
       " 'Salary Predictor  ',\n",
       " 'https://github.com/sameertak/Salary-Predictor ',\n",
       " '',\n",
       " '    (May 2022 – Jun 2022) ',\n",
       " '',\n",
       " '•  Implemented Machine Learning algorithm to predict salary based ',\n",
       " '',\n",
       " 'SKILLS ',\n",
       " '',\n",
       " 'ANALYTICAL TOOLS: ',\n",
       " 'Tableau ',\n",
       " '',\n",
       " 'WEB-BASED APLICATIONS:  ',\n",
       " 'Flask, Django, JavaScript, HTML 5 & ',\n",
       " 'CSS ',\n",
       " '',\n",
       " 'ANALYTICAL SKILLS:  ',\n",
       " 'Python, SQL, PostgreSQL, Google ',\n",
       " 'Clouds, Pandas, Numpy, Matplotlib, ',\n",
       " 'Seaborn ',\n",
       " '',\n",
       " 'OFFICE TOOLS:  ',\n",
       " 'Microsoft Word, Excel, PowerPoint ',\n",
       " '',\n",
       " 'OTHERS:  ',\n",
       " 'Adobe After Effects, Premiere Pro ',\n",
       " '',\n",
       " 'on some data. ',\n",
       " '',\n",
       " '•  Achieved an accuracy of 76% ',\n",
       " '',\n",
       " '•  Deployed using Streamlit ',\n",
       " '',\n",
       " 'Trainings ',\n",
       " '',\n",
       " '• Google Data Analytics Professional ',\n",
       " '',\n",
       " '•',\n",
       " '',\n",
       " 'Certificate ',\n",
       " 'Complete Python Developer in 2022: Zero ',\n",
       " 'to Mastery ',\n",
       " '',\n",
       " 'Certificate ',\n",
       " '',\n",
       " '(May 2022 – Present) ',\n",
       " '',\n",
       " '(May 2021 – July 2021) ',\n",
       " '',\n",
       " '•  Programming with C and C++ ',\n",
       " '',\n",
       " '(May 2020 – July 2020) ',\n",
       " '',\n",
       " 'Certificate ID- 6F06939B-C48B-55BA-E2F5-69E0F182BC39 ',\n",
       " '',\n",
       " 'Education ',\n",
       " '',\n",
       " '•  Bachelor of Technology, Computer Science ',\n",
       " '',\n",
       " ' (Aug 2019 – Present) ',\n",
       " '',\n",
       " 'Indus University, Ahmedabad ',\n",
       " 'CGPA: 9.78/10 ',\n",
       " '',\n",
       " '•  Higher Secondary School ',\n",
       " '',\n",
       " '            (Jun 2018 – May 2019) ',\n",
       " '',\n",
       " 'Som-Lalit School ',\n",
       " '64.9% ',\n",
       " '',\n",
       " '•  Secondary School ',\n",
       " 'Som-Lalit School ',\n",
       " ' 72% ',\n",
       " '',\n",
       " '            (Jun 2018 – Mar 2019) ',\n",
       " '',\n",
       " ' ',\n",
       " ' ',\n",
       " ' ',\n",
       " ' ',\n",
       " ' ',\n",
       " '          ',\n",
       " ' ',\n",
       " ' ',\n",
       " ' ',\n",
       " ' ',\n",
       " ' ',\n",
       " ' ',\n",
       " ' ',\n",
       " ' ',\n",
       " '     ',\n",
       " ' ',\n",
       " ' ',\n",
       " ' ',\n",
       " ' ',\n",
       " '   ',\n",
       " ' ',\n",
       " ' ',\n",
       " ' ',\n",
       " ' ',\n",
       " ' ',\n",
       " '  ',\n",
       " '\\x0c']"
      ]
     },
     "execution_count": 23,
     "metadata": {},
     "output_type": "execute_result"
    }
   ],
   "source": [
    "texts"
   ]
  },
  {
   "cell_type": "code",
   "execution_count": 20,
   "id": "d802e878",
   "metadata": {},
   "outputs": [],
   "source": [
    "dct = {}\n",
    "dct['Name'] = texts[0]\n",
    "dct['Role'] = texts[2]"
   ]
  },
  {
   "cell_type": "code",
   "execution_count": 21,
   "id": "fdbed129",
   "metadata": {},
   "outputs": [
    {
     "name": "stdout",
     "output_type": "stream",
     "text": [
      "False\n"
     ]
    }
   ],
   "source": [
    "email_re = r'\\b[A-Za-z0-9._%+-]+@[A-Za-z0-9.-]+\\.[A-Z|a-z]{2,}\\b'\n",
    "phone_re = r'^(?:(?:\\+|0{0,2})91?(\\s)?(\\s*[\\-]\\s*)?|[0]?)?([789]\\d{4})?(\\s*[\\-]\\s*)?(\\d{5})'\n",
    "linkedin_re = r'([\\w]+\\.)?linkedin.com'\n",
    "git_re = r'([\\w]+\\.)?github.com'\n",
    "res_skills = []\n",
    "\n",
    "for text in texts:\n",
    "    for split_text in text.split(' '):\n",
    "        if(re.fullmatch(email_re, split_text)):\n",
    "            dct['Email'] = split_text\n",
    "        if(re.fullmatch(phone_re, split_text)):\n",
    "            dct['Phone'] = split_text\n",
    "        if(re.match(linkedin_re, split_text)):\n",
    "            dct['LinkedIn'] = split_text\n",
    "        if(re.match(git_re, split_text)):\n",
    "            dct['Github'] = split_text\n",
    "        if(split_text in skills):\n",
    "            print(split_text)\n",
    "print(\"Python\" in skills)"
   ]
  },
  {
   "cell_type": "code",
   "execution_count": null,
   "id": "54c9003d",
   "metadata": {},
   "outputs": [],
   "source": []
  },
  {
   "cell_type": "code",
   "execution_count": 22,
   "id": "c2311e70",
   "metadata": {},
   "outputs": [
    {
     "data": {
      "text/plain": [
       "{'Name': 'SAMIR TAK ',\n",
       " 'Role': 'S o f t w a r e   E n g i n e e r  ',\n",
       " 'Phone': '95125-19226',\n",
       " 'Email': 'taksamir08@gmail.com',\n",
       " 'LinkedIn': 'www.linkedin.com/in/samir-tak',\n",
       " 'Github': 'www.github.com/sameertak'}"
      ]
     },
     "execution_count": 22,
     "metadata": {},
     "output_type": "execute_result"
    }
   ],
   "source": [
    "dct"
   ]
  },
  {
   "cell_type": "code",
   "execution_count": 26,
   "id": "3754bd3a",
   "metadata": {},
   "outputs": [],
   "source": [
    "# from io import BytesIO\n",
    "# # from urlparse import urljoin\n",
    "# from urllib.parse import urljoin\n",
    "# import requests\n",
    "# import rows\n",
    "\n",
    "# PROGRAMMING_LANGUAGES_URL = \\\n",
    "#         'https://en.wikipedia.org/wiki/List_of_programming_languages'\n",
    "\n",
    "# def _convert_row(row):\n",
    "#     url = urljoin('https://en.wikipedia.org/', row.url)\n",
    "#     if 'redlink=1' in url:  # Wikipedia article does not exist\n",
    "#         url = None\n",
    "\n",
    "#     return {'name': row.name}\n",
    "\n",
    "import pandas as pd\n",
    "sheet_id = \"1mBhrclTrMdR8IvNi6Yigm8vvmjU7UNMAVFOfVOPSzI4\"\n",
    "sheet_name = \"Sheet1\"\n",
    "url = f\"https://docs.google.com/spreadsheets/d/{sheet_id}/gviz/tq?tqx=out:csv&sheet={sheet_name}\"\n",
    "\n",
    "df = pd.read_csv(url)"
   ]
  },
  {
   "cell_type": "code",
   "execution_count": 1,
   "id": "1766bfb5",
   "metadata": {},
   "outputs": [],
   "source": [
    "import requests \n",
    "from bs4 import BeautifulSoup\n",
    "wik_lang = \"https://en.wikipedia.org/wiki/List_of_programming_languages\"\n",
    "r = requests.get(wik_lang)\n",
    "htmlContent = r.content\n",
    "soup = BeautifulSoup(htmlContent,'html.parser')"
   ]
  },
  {
   "cell_type": "code",
   "execution_count": 2,
   "id": "326831eb",
   "metadata": {},
   "outputs": [],
   "source": [
    "elements = soup.find_all(\"div\",class_=\"div-col\")\n",
    "skills_text = [p.get_text() for p in elements]"
   ]
  },
  {
   "cell_type": "code",
   "execution_count": 18,
   "id": "6f3c7b9b",
   "metadata": {},
   "outputs": [],
   "source": [
    "skills = []\n",
    "for i in skills_text:\n",
    "    skills.append(i.split('\\n'))"
   ]
  },
  {
   "cell_type": "code",
   "execution_count": 17,
   "id": "fa8a8697",
   "metadata": {},
   "outputs": [
    {
     "data": {
      "text/plain": [
       "array([list(['', 'A.NET (A#/A sharp)', 'A-0 System', 'A+ (A plus)', 'A++', 'ABAP', 'ABC', 'ABC ALGOL', 'ACC', 'Accent (Rational Synergy)', 'Ace DASL (Distributed Application Specification Language)', 'Action!', 'ActionScript', 'Actor', 'Ada', 'Adenine (Haystack)', 'AdvPL', 'Agda', 'Agilent VEE (Keysight VEE)', 'Agora', 'AIMMS', 'Aldor', 'Alef', 'ALF', 'ALGOL 58', 'ALGOL 60', 'ALGOL 68', 'ALGOL W', 'Alice (Alice ML)', 'Alma-0', 'AmbientTalk', 'Amiga E', 'AMOS (AMOS BASIC)', 'AMPL', 'Analitik', 'AngelScript', 'Apache Pig latin', 'Apex (Salesforce.com, Inc)', 'APL', \"App Inventor for Android's visual block language (MIT App Inventor)\", 'AppleScript', 'APT', 'Arc', 'ARexx', 'Argus', 'Assembly language (ASM)', 'AutoHotkey', 'AutoIt', 'AutoLISP / Visual LISP', 'Averest', 'AWK', 'Axum']),\n",
       "       list(['', 'B', 'Babbage', 'Ballerina', 'Bash', 'BASIC', 'Batch file (Windows/MS-DOS)', 'bc (basic calculator)', 'BCPL', 'BeanShell', 'Bertrand', 'BETA', 'BLISS', 'Blockly', 'BlooP', 'Boo', 'Boomerang', 'Bosque']),\n",
       "       list(['', 'C – ISO/IEC 9899', 'C-- (C minus minus)', 'C++ (C plus plus) – ISO/IEC 14882', 'C*', 'C# (C sharp) – ISO/IEC 23270', 'C/AL', 'Caché ObjectScript', 'C Shell (csh)', 'Caml', 'Carbon', 'Cayenne (Lennart Augustsson)', 'CDuce', 'Cecil', 'CESIL (Computer Education in Schools Instruction Language)', 'Céu', 'Ceylon', 'CFEngine', 'Cg (High-Level Shader/Shading Language [HLSL])', 'Ch', 'Chapel (Cascade High Productivity Language)', 'Charm', 'CHILL', 'CHIP-8', 'ChucK', 'Cilk (also Cilk++ and Cilk plus)', 'Control Language', 'Claire', 'Clarion', 'Clean', 'Clipper', 'CLIPS', 'CLIST', 'Clojure', 'CLU', 'CMS-2', 'COBOL – ISO/IEC 1989', 'CobolScript – COBOL Scripting language', 'Cobra', 'CoffeeScript', 'ColdFusion', 'COMAL', 'COMIT', 'Common Intermediate Language (CIL)', 'Common Lisp (also known as CL)', 'COMPASS', 'Component Pascal', 'Constraint Handling Rules (CHR)', 'COMTRAN', 'Cool', 'Coq', 'Coral 66', 'CorVision', 'COWSEL', 'CPL', 'Cryptol', 'Crystal', 'Csound', 'Cuneiform', 'Curl', 'Curry', 'Cybil', 'Cyclone', 'Cypher Query Language', 'Cython', 'CEEMAC']),\n",
       "       list(['', 'D', 'Dart', 'Darwin', 'DataFlex', 'Datalog', 'DATATRIEVE', 'dBase', 'dc', 'DCL (DIGITAL Command Language)', 'Delphi', 'DinkC', 'DIBOL', 'Dog', 'Draco', 'DRAKON', 'Dylan', 'DYNAMO', 'DAX (Data Analysis Expressions)']),\n",
       "       list(['', 'E', 'Ease', 'Easy PL/I', 'EASYTRIEVE PLUS', 'eC', 'ECMAScript', 'Edinburgh IMP', 'EGL', 'Eiffel', 'ELAN', 'Elixir', 'Elm', 'Emacs Lisp', 'Emerald', 'Epigram', 'EPL (Easy Programming Language)', 'Erlang', 'es', 'Escher', 'ESPOL', 'Esterel', 'Etoys', 'Euclid', 'Euler', 'Euphoria', 'EusLisp Robot Programming Language', 'CMS EXEC (EXEC)', 'EXEC 2', 'Executable UML', 'Ezhil']),\n",
       "       list(['', 'F', 'F# (F sharp)', 'F*', 'Factor', 'Fantom', 'FAUST', 'FFP', 'fish', 'Fjölnir', 'FL', 'FlagShip', 'Flavors', 'Flex', 'Flix', 'FlooP', 'FLOW-MATIC (B0)', 'FOCAL (Formulating On-Line Calculations in Algebraic Language/FOrmula CALculator)', 'FOCUS', 'FOIL', 'FORMAC (FORMula MAnipulation Compiler)', '@Formula', 'Forth', 'Fortran – ISO/IEC 1539', 'Fortress', 'FP', 'FoxBase/FoxPro', 'Franz Lisp', 'Futhark', 'F-Script']),\n",
       "       list(['', 'Game Maker Language', 'GameMonkey Script', 'GAMS (General Algebraic Modeling System)', 'GAP', 'G-code', 'GDScript (Godot)', 'Genie', 'GDL (Geometric Description Language)', 'GEORGE', 'GLSL (OpenGL Shading Language)', 'GNU E', 'GNU Guile (GNU Ubiquitous Intelligent Language for Extensions)', 'Go', 'Go!', 'GOAL (Game Oriented Assembly Lisp)', 'Gödel', 'Golo', 'GOM (Good Old Mad)', 'Google Apps Script', 'Gosu', 'GOTRAN (IBM 1620)', 'GPSS (General Purpose Simulation System)', 'GraphTalk (Computer Sciences Corporation)', 'GRASS', 'Grasshopper', 'Groovy (Apache Groovy)']),\n",
       "       list(['', 'Hack', 'HAGGIS', 'HAL/S', 'Halide (programming language)', 'Hamilton C shell', 'Harbour', 'Hartmann pipelines', 'Haskell', 'Haxe', 'Hermes', 'High Level Assembly (HLA)', 'HLSL', 'Hollywood', 'HolyC (TempleOS)', 'Hop', 'Hopscotch', 'Hope', 'Hume', 'HyperTalk', 'Hy']),\n",
       "       list(['', 'Io', 'Icon', 'IBM Basic assembly language', 'IBM HAScript', 'IBM Informix-4GL', 'IBM RPG', 'IDL', 'Idris', 'Inform', 'ISLISP']),\n",
       "       list(['', 'J', 'J# (J sharp)', 'J++ (J plus plus)', 'JADE', 'Jai', 'JAL', 'Janus (concurrent constraint programming language)', 'Janus (time-reversible computing programming language)', 'JASS', 'Java', 'JavaFX Script', 'JavaScript', 'Jess', 'JCL', 'JEAN', 'Join Java', 'JOSS', 'Joule', 'JOVIAL', 'Joy', 'JScript', 'JScript .NET', 'Julia', 'Jython']),\n",
       "       list(['', 'K', 'Kaleidoscope', 'Karel', 'KEE', 'Kixtart', 'Klerer-May System', 'KIF (Knowledge Interchange Format)', 'Kojo', 'Kotlin', 'KRC', 'KRL', 'KRL (KUKA Robot Language)', 'KRYPTON', 'KornShell (ksh)', 'Kodu', 'Kv (Kivy)']),\n",
       "       list(['', 'LabVIEW', 'Ladder', 'LANSA', 'Lasso', 'Lava', 'LC-3', 'Lean', 'Legoscript', 'LIL', 'LilyPond', 'Limbo', 'Limnor', 'LINC', 'Lingo', 'LINQ', 'LIS', 'LISA', 'Language H', 'Lisp – ISO/IEC 13816', 'Lite-C', 'Lithe', 'Little b', 'LLL', 'Logo', 'Logtalk', 'LotusScript', 'LPC', 'LSE', 'LSL', 'LiveCode', 'LiveScript', 'Lua', 'Lucid', 'Lustre', 'LYaPAS', 'Lynx']),\n",
       "       list(['', 'M Formula language', 'M2001', 'M4', 'M#', 'Machine code', 'MAD (Michigan Algorithm Decoder)', 'MAD/I', 'Magik', 'Magma', 'Máni', 'Maple', 'MAPPER (now part of BIS)', 'MARK-IV (now VISION:BUILDER)', 'Mary', 'MATLAB', 'MASM Microsoft Assembly x86', 'MATH-MATIC', 'Maude system', 'Maxima (see also Macsyma)', 'Max (Max Msp – Graphical Programming Environment)', 'MaxScript internal language 3D Studio Max', 'Maya (MEL)', 'MDL', 'Mercury', 'Mesa', 'MHEG-5 (Interactive TV programming language)', 'Microcode', 'Microsoft Power Fx', 'MIIS', 'Milk (programming language)', 'MIMIC', 'Mirah', 'Miranda', 'MIVA Script', 'ML', 'Model 204', 'Modelica', 'Modula', 'Modula-2', 'Modula-3', 'Mohol', 'MOO', 'Mortran', 'Mouse', 'MPD', 'MSL', 'MUMPS', 'MuPAD', 'Mutan', 'Mystic Programming Language (MPL)']),\n",
       "       list(['', 'NASM', 'Napier88', 'Neko', 'Nemerle', 'NESL', 'Net.Data', 'NetLogo', 'NetRexx', 'NewLISP', 'NEWP', 'Newspeak', 'NewtonScript', 'Nial', 'Nickle (NITIN)', 'Nim', 'Nix (Systems configuration language)', 'NPL', 'Not eXactly C (NXC)', 'Not Quite C (NQC)', 'NSIS', 'Nu', 'NWScript', 'NXT-G']),\n",
       "       list(['', 'o:XML', 'Oak', 'Oberon', 'OBJ2', 'Object Lisp', 'ObjectLOGO', 'Object REXX', 'Object Pascal', 'Objective-C', 'Obliq', 'OCaml', 'occam', 'occam-π', 'Octave', 'OmniMark', 'Opa', 'Opal', 'Open Programming Language (OPL)', 'OpenCL', 'OpenEdge Advanced Business Language (ABL)', 'OpenVera', 'OpenQASM', 'OPS5', 'OptimJ', 'Orc', 'ORCA/Modula-2', 'Oriel', 'Orwell', 'Oxygene', 'Oz']),\n",
       "       list(['', 'P', 'P4', 'P′′', 'ParaSail', 'PARI/GP', 'Pascal – ISO 7185', 'Pascal Script', 'PCASTL', 'PCF', 'PEARL', 'PeopleCode', 'Perl', 'PDL', 'Pharo', 'PHP', 'Pico', 'Picolisp', 'Pict', 'Pike', 'PILOT', 'Pipelines', 'Pizza', 'PL-11', 'PL/0', 'PL/B', 'PL/C', 'PL/I – ISO 6160', 'PL/M', 'PL/P', 'PL/S', 'PL/SQL', 'PL360', 'PLANC', 'Plankalkül', 'Planner', 'PLEX', 'PLEXIL', 'Plus', 'POP-11', 'POP-2', 'PostScript', 'PortablE', 'POV-Ray SDL', 'Powerhouse', 'PowerBuilder – 4GL GUI application generator from Sybase', 'PowerShell', 'PPL', 'Processing', 'Processing.js', 'Prograph', 'Project Verona', 'Prolog', 'PROMAL', 'Promela', 'PROSE modeling language', 'PROTEL', 'ProvideX', 'Pro*C', 'Pure', 'Pure Data', 'PureScript', 'PWCT', 'Python']),\n",
       "       list(['', 'Q (programming language from Kx Systems)', 'Q# (Microsoft programming language)', 'Qalb', 'Quantum Computation Language', 'QtScript', 'QuakeC', 'QPL', '.QL']),\n",
       "       list(['', 'R', 'R++', 'Racket', 'Raku', 'RAPID', 'Rapira', 'Ratfiv', 'Ratfor', 'rc', 'Reason', 'REBOL', 'Red', 'Redcode', 'REFAL', 'REXX', 'Ring', 'ROOP', 'RPG', 'RPL', 'RSL', 'RTL/2', 'Ruby', 'Rust']),\n",
       "       list(['', 'S', 'S2', 'S3', 'S-Lang', 'S-PLUS', 'SA-C', 'SabreTalk', 'SAIL', 'SAKO', 'SAS', 'SASL', 'Sather', 'Sawzall', 'Scala', 'Scheme', 'Scilab', 'Scratch', 'Script.NET', 'Sed', 'Seed7', 'Self', 'SenseTalk', 'SequenceL', 'Serpent', 'SETL', 'Short Code', 'SIMPOL', 'SIGNAL', 'SiMPLE', 'SIMSCRIPT', 'Simula', 'Simulink', 'SISAL', 'SKILL', 'SLIP', 'SMALL', 'Smalltalk', 'SML', 'Strongtalk', 'Snap!', 'SNOBOL (SPITBOL)', 'Snowball', 'SOL', 'Solidity', 'SOPHAEROS', 'Source', 'SPARK', 'Speakeasy', 'Speedcode', 'SPIN', 'SP/k', 'SPS', 'SQL', 'SQR', 'Squeak', 'Squirrel', 'SR', 'S/SL', 'Starlogo', 'Strand', 'Stata', 'Stateflow', 'Subtext', 'SBL', 'SuperCollider', 'Superplan', 'SuperTalk', 'Swift (Apple programming language)', 'Swift (parallel scripting language)', 'SYMPL']),\n",
       "       list(['', 'T', 'TACL', 'TACPOL', 'TADS (Text Adventure Development System)', 'TAL', 'Tcl', 'Tea', 'TECO (Text Editor and Corrector)', 'TELCOMP', 'TeX', 'TEX (Text Executive Programming Language)', 'TIE', 'TMG (TransMo Griffer), compiler-compiler', 'Tom', 'Toi', 'Topspeed (Clarion)', 'TPU (Text Processing Utility)', 'Trac', 'TTM', 'T-SQL (Transact-SQL)', 'Transcript (LiveCode)', 'TTCN (Tree and Tabular Combined Notation)', 'Turing', 'TUTOR (PLATO Author Language)', 'TXL', 'TypeScript', 'Tynker']),\n",
       "       list(['', 'Ubercode', 'UCSD Pascal', 'Umple', 'Unicon', 'Uniface', 'UNITY', 'UnrealScript']),\n",
       "       list(['', 'Vala', 'Vim script', 'Viper (Ethereum/Ether (ETH))', 'Visual DataFlex', 'Visual DialogScript', 'Visual FoxPro', 'Visual J++ (Visual J plus plus)', 'Visual LISP', 'Visual Objects', 'Visual Prolog']),\n",
       "       list(['', 'WATFIV, WATFOR (WATerloo FORtran IV)', 'WebAssembly', 'WebDNA', 'Whiley', 'Winbatch', 'Wolfram Language', 'Wyvern']),\n",
       "       list(['', 'X++ (X plus plus/Microsoft Dynamics AX)', 'X10', 'xBase++ (xBase plus plus)', 'XBL', 'XC (targets XMOS architecture)', 'xHarbour', 'XL', 'Xojo', 'XOTcl', 'Xod', 'XPL', 'XPL0', 'XQuery', 'XSB', 'XSharp (X#)', 'XSLT', 'Xtend']),\n",
       "       list(['', 'Yorick', 'YQL', 'Yoix']),\n",
       "       list(['', 'Z notation', 'Z shell', 'Zebra, ZPL, ZPL2', 'Zeno', 'ZetaLisp', 'Zig', 'Zonnon', 'ZOPL', 'ZPL', 'Z++'])],\n",
       "      dtype=object)"
      ]
     },
     "execution_count": 17,
     "metadata": {},
     "output_type": "execute_result"
    }
   ],
   "source": [
    "skills"
   ]
  },
  {
   "cell_type": "code",
   "execution_count": null,
   "id": "d727721b",
   "metadata": {},
   "outputs": [],
   "source": []
  }
 ],
 "metadata": {
  "kernelspec": {
   "display_name": "Python 3 (ipykernel)",
   "language": "python",
   "name": "python3"
  },
  "language_info": {
   "codemirror_mode": {
    "name": "ipython",
    "version": 3
   },
   "file_extension": ".py",
   "mimetype": "text/x-python",
   "name": "python",
   "nbconvert_exporter": "python",
   "pygments_lexer": "ipython3",
   "version": "3.9.7"
  }
 },
 "nbformat": 4,
 "nbformat_minor": 5
}
