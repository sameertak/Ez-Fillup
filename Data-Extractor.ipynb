{
 "cells": [
  {
   "cell_type": "code",
   "execution_count": 121,
   "id": "037382cc",
   "metadata": {},
   "outputs": [],
   "source": [
    "from pdfminer.high_level import extract_text\n",
    "import regex as re\n",
    "import PyPDF2\n",
    "import requests\n",
    "import json\n",
    "import numpy as np\n",
    "import pandas as pd"
   ]
  },
  {
   "cell_type": "code",
   "execution_count": 122,
   "id": "f8b9a3ca",
   "metadata": {},
   "outputs": [
    {
     "name": "stderr",
     "output_type": "stream",
     "text": [
      "[nltk_data] Downloading package punkt to\n",
      "[nltk_data]     C:\\Users\\taksa\\AppData\\Roaming\\nltk_data...\n",
      "[nltk_data]   Package punkt is already up-to-date!\n",
      "[nltk_data] Downloading package averaged_perceptron_tagger to\n",
      "[nltk_data]     C:\\Users\\taksa\\AppData\\Roaming\\nltk_data...\n",
      "[nltk_data]   Package averaged_perceptron_tagger is already up-to-\n",
      "[nltk_data]       date!\n",
      "[nltk_data] Downloading package maxent_ne_chunker to\n",
      "[nltk_data]     C:\\Users\\taksa\\AppData\\Roaming\\nltk_data...\n",
      "[nltk_data]   Package maxent_ne_chunker is already up-to-date!\n",
      "[nltk_data] Downloading package words to\n",
      "[nltk_data]     C:\\Users\\taksa\\AppData\\Roaming\\nltk_data...\n",
      "[nltk_data]   Package words is already up-to-date!\n"
     ]
    },
    {
     "data": {
      "text/plain": [
       "True"
      ]
     },
     "execution_count": 122,
     "metadata": {},
     "output_type": "execute_result"
    }
   ],
   "source": [
    "import nltk\n",
    "nltk.download('punkt')\n",
    "nltk.download('averaged_perceptron_tagger')\n",
    "nltk.download('maxent_ne_chunker')\n",
    "nltk.download('words')"
   ]
  },
  {
   "cell_type": "code",
   "execution_count": 123,
   "id": "c5cc7870",
   "metadata": {},
   "outputs": [],
   "source": [
    "def extract_text_from_pdf(pdf_path):\n",
    "    return extract_text(pdf_path)\n",
    " \n",
    "texts = extract_text_from_pdf('Samir Tak.pdf')"
   ]
  },
  {
   "cell_type": "code",
   "execution_count": 124,
   "id": "2a2493d0",
   "metadata": {},
   "outputs": [],
   "source": [
    "texts = texts.lower().split('\\n')"
   ]
  },
  {
   "cell_type": "code",
   "execution_count": 125,
   "id": "8e078aec",
   "metadata": {},
   "outputs": [
    {
     "data": {
      "text/plain": [
       "['samir tak',\n",
       " '',\n",
       " 's o f t w a r e   e n g i n e e r',\n",
       " '',\n",
       " 'summary',\n",
       " '',\n",
       " 'adept at using python, sql and other programming languages to produce',\n",
       " 'clean  code.  well-organized  and  collaborative  team  player  with  strong',\n",
       " 'communication and analytical abilities.',\n",
       " 'projects',\n",
       " '',\n",
       " 'pizza delivery application',\n",
       " 'https://github.com/sameertak/pizza-delivery-app',\n",
       " '',\n",
       " '(jan 2022 – mar 2022)',\n",
       " '',\n",
       " '•  designed an web app for connecting users with staff.',\n",
       " '',\n",
       " '•  used and applied python and django as well as programming skills',\n",
       " '',\n",
       " 'to create and test the project.',\n",
       " '',\n",
       " '•  worked  with  a  3-member  research  team  for  accomplishing  the',\n",
       " '',\n",
       " 'same.',\n",
       " '',\n",
       " 'tuberculosis detector',\n",
       " 'https://github.com/sameertak/tuberculosis-detection',\n",
       " '',\n",
       " '(mar 2022 – may 2022)',\n",
       " '',\n",
       " '•  made  a  machine  learning  algorithm  which  helps  to  identify',\n",
       " '',\n",
       " 'contact',\n",
       " '',\n",
       " 'phone: +91 95125-19226',\n",
       " '',\n",
       " 'email: taksamir08@gmail.com',\n",
       " '',\n",
       " 'www.linkedin.com/in/samir-tak',\n",
       " '',\n",
       " 'www.github.com/sameertak',\n",
       " '',\n",
       " 'samir0951.pythonanywhere.com',\n",
       " '',\n",
       " 'presence of tuberculosis.',\n",
       " '',\n",
       " 'www.kaggle.com/samirtak',\n",
       " '',\n",
       " 'accuracy of 98%.',\n",
       " '',\n",
       " '•  integrated to web using django.',\n",
       " '',\n",
       " '•  learned  and  applied  various  models  which  led  to  achieve  an',\n",
       " '',\n",
       " 'home: ahmedabad, gujarat 380013',\n",
       " '',\n",
       " 'salary predictor',\n",
       " 'https://github.com/sameertak/salary-predictor',\n",
       " '',\n",
       " '(may 2022 – jun 2022)',\n",
       " '',\n",
       " '•  implemented machine learning algorithm to predict salary based',\n",
       " '',\n",
       " 'skills',\n",
       " '',\n",
       " 'analytical tools:',\n",
       " 'tableau',\n",
       " '',\n",
       " 'web-based aplications:',\n",
       " 'flask, django, javascript, html 5 &',\n",
       " 'css',\n",
       " '',\n",
       " 'analytical skills:',\n",
       " 'python, sql, postgresql, google',\n",
       " 'clouds, pandas, numpy, matplotlib,',\n",
       " 'seaborn',\n",
       " '',\n",
       " 'office tools:',\n",
       " 'microsoft word, excel, powerpoint',\n",
       " '',\n",
       " 'others:',\n",
       " 'adobe after effects, premiere pro',\n",
       " '',\n",
       " 'on some data.',\n",
       " '',\n",
       " '•  achieved an accuracy of 76%',\n",
       " '',\n",
       " '•  deployed using streamlit',\n",
       " '',\n",
       " 'trainings',\n",
       " '',\n",
       " '• google data analytics professional',\n",
       " '',\n",
       " '•',\n",
       " '',\n",
       " 'certificate',\n",
       " 'complete python developer in 2022: zero',\n",
       " 'to mastery',\n",
       " '',\n",
       " 'certificate',\n",
       " '',\n",
       " '(may 2022 – present)',\n",
       " '',\n",
       " '(may 2021 – july 2021)',\n",
       " '',\n",
       " '•  programming with c and c++',\n",
       " '',\n",
       " '(may 2020 – july 2020)',\n",
       " '',\n",
       " 'certificate id- 6f06939b-c48b-55ba-e2f5-69e0f182bc39',\n",
       " '',\n",
       " 'education',\n",
       " '',\n",
       " '•  bachelor of technology, computer science',\n",
       " '',\n",
       " '(aug 2019 – present)',\n",
       " '',\n",
       " 'indus university, ahmedabad',\n",
       " 'cgpa: 9.78/10',\n",
       " '',\n",
       " '•  higher secondary school',\n",
       " '',\n",
       " '(jun 2018 – may 2019)',\n",
       " '',\n",
       " 'som-lalit school',\n",
       " '64.9%',\n",
       " '',\n",
       " '•  secondary school',\n",
       " 'som-lalit school',\n",
       " '72%',\n",
       " '',\n",
       " '(jun 2018 – mar 2019)',\n",
       " '',\n",
       " '',\n",
       " '',\n",
       " '',\n",
       " '',\n",
       " '',\n",
       " '',\n",
       " '',\n",
       " '',\n",
       " '',\n",
       " '',\n",
       " '',\n",
       " '',\n",
       " '',\n",
       " '',\n",
       " '',\n",
       " '',\n",
       " '',\n",
       " '',\n",
       " '',\n",
       " '',\n",
       " '',\n",
       " '',\n",
       " '',\n",
       " '',\n",
       " '',\n",
       " '',\n",
       " '']"
      ]
     },
     "execution_count": 125,
     "metadata": {},
     "output_type": "execute_result"
    }
   ],
   "source": [
    "for i in range(len(texts)):\n",
    "    texts[i] =  texts[i].strip()\n",
    "texts"
   ]
  },
  {
   "cell_type": "code",
   "execution_count": 126,
   "id": "d802e878",
   "metadata": {},
   "outputs": [],
   "source": [
    "dct = {}\n",
    "dct['Name'] = texts[0]\n",
    "dct['Role'] = texts[2]"
   ]
  },
  {
   "cell_type": "code",
   "execution_count": 127,
   "id": "fdbed129",
   "metadata": {},
   "outputs": [],
   "source": [
    "email_re = r'\\b[A-Za-z0-9._%+-]+@[A-Za-z0-9.-]+\\.[A-Z|a-z]{2,}\\b'\n",
    "phone_re = r'^(?:(?:\\+|0{0,2})91?(\\s)?(\\s*[\\-]\\s*)?|[0]?)?([789]\\d{4})?(\\s*[\\-]\\s*)?(\\d{5})'\n",
    "linkedin_re = r'([\\w]+\\.)?linkedin.com'\n",
    "git_re = r'([\\w]+\\.)?github.com'\n",
    "res_skills = []\n",
    "\n",
    "for text in texts:\n",
    "    for split_text in text.split(' '):\n",
    "        if(re.fullmatch(email_re, split_text)):\n",
    "            dct['Email'] = split_text\n",
    "        if(re.fullmatch(phone_re, split_text)):\n",
    "            dct['Phone'] = split_text\n",
    "        if(re.match(linkedin_re, split_text)):\n",
    "            dct['LinkedIn'] = split_text\n",
    "        if(re.match(git_re, split_text)):\n",
    "            dct['Github'] = split_text\n"
   ]
  },
  {
   "cell_type": "code",
   "execution_count": 140,
   "id": "b62ad23e",
   "metadata": {},
   "outputs": [],
   "source": [
    "from tika import parser"
   ]
  },
  {
   "cell_type": "code",
   "execution_count": 141,
   "id": "e8550c72",
   "metadata": {},
   "outputs": [],
   "source": [
    "file = 'C:/Users/taksa/Desktop/Ez-Fillup-master/Samir Tak.PDF'\n",
    "file_data = parser.from_file(file)"
   ]
  },
  {
   "cell_type": "code",
   "execution_count": 142,
   "id": "fa6a05a5",
   "metadata": {
    "scrolled": true
   },
   "outputs": [],
   "source": [
    "text = file_data['content']"
   ]
  },
  {
   "cell_type": "code",
   "execution_count": 143,
   "id": "82eb051e",
   "metadata": {},
   "outputs": [],
   "source": [
    "parsed_content = {}"
   ]
  },
  {
   "cell_type": "code",
   "execution_count": 144,
   "id": "b4884dc2",
   "metadata": {},
   "outputs": [],
   "source": [
    "Keywords = [\"education\",\n",
    "            \"summary\",\n",
    "            \"accomplishments\",\n",
    "            \"executive profile\",\n",
    "            \"professional profile\",\n",
    "            \"personal profile\",\n",
    "            \"work background\",\n",
    "            \"academic profile\",\n",
    "            \"other activities\",\n",
    "            \"qualifications\",\n",
    "            \"experience\",\n",
    "            \"interests\",\n",
    "            \"skills\",\n",
    "            \"achievements\",\n",
    "            \"publications\",\n",
    "            \"publication\",\n",
    "            \"certifications\",\n",
    "            \"workshops\",\n",
    "            \"projects\",\n",
    "            \"internships\",\n",
    "            \"trainings\",\n",
    "            \"hobbies\",\n",
    "            \"overview\",\n",
    "            \"objective\",\n",
    "            \"position of responsibility\",\n",
    "            \"jobs\",\n",
    "            \"e d u c a t i o n\",\n",
    "            \"s u m m a r y\",\n",
    "            \"a c c o m p l i s h m e n t s\",\n",
    "            \"e x e c u t i v e  p r o f i l e\",\n",
    "            \"p r o f e s s i o n a l  p r o f i l e\",\n",
    "            \"p e r s o n a l  p r o f i l e\",\n",
    "            \"w o r k  b a c k g r o u n d\",\n",
    "            \"a c a d e m i c  p r o f i l e\",\n",
    "            \"o t h e r  a c t i v i t i e s\",\n",
    "            \"q u a l i f i c a t i o n s\",\n",
    "            \"e x p e r i e n c e\",\n",
    "            \"i n t e r e s t s\",\n",
    "            \"s k i l l s\",\n",
    "            \"a c h i e v e m e n t s\",\n",
    "            \"p u b l i c a t i o n s\",\n",
    "            \"p u b l i c a t i o n\",\n",
    "            \"c e r t i f i c a t i o n s\",\n",
    "            \"w o r k s h o p s\",\n",
    "            \"p r o j e c t s\",\n",
    "            \"i n t e r n s h i p s\",\n",
    "            \"t r a i n i n g s\",\n",
    "            \"h o b b i e s\",\n",
    "            \"o v e r v i e w\",\n",
    "            \"objective\",\n",
    "            \"p o s i t i o n  o f  r e s p o n s i b i l i t y\",\n",
    "            \"j o b s\"\n",
    "           ]"
   ]
  },
  {
   "cell_type": "code",
   "execution_count": 145,
   "id": "e5b14506",
   "metadata": {},
   "outputs": [
    {
     "name": "stdout",
     "output_type": "stream",
     "text": [
      "                                                 s o f t w a r e  e n g i n e e r    samir tak   trainings   • complete python developer in 2022: zero   to mastery      certificate   • google data analytics professional   certificate   (may 2021 – july 2021)   (may 2022 – present)   projects   home: ahmedabad, gujarat 380013    email: taksamir08@gmail.com   phone: +91 95125-19226   contact   skills   analytical tools:   tableau   web-based aplications:    flask, django, javascript, html 5 &   css   analytical skills:    python, sql, postgresql, google   clouds, pandas, numpy, matplotlib,   seaborn   office tools:    microsoft word, excel, powerpoint   others:    adobe after effects, premiere pro   • programming with c and c++   certificate id- 6f06939b-c48b-55ba-e2f5-69e0f182bc39   (may 2020 – july 2020)   www.linkedin.com/in/samir-tak      www.github.com/sameertak   samir0951.pythonanywhere.com   www.kaggle.com/samirtak   pizza delivery application                   (jan 2022 – mar 2022)  https://github.com/sameertak/pizza-delivery-app   • designed an web app for connecting users with staff.   • used and applied python and django as well as programming skills  to create and test the project.   • worked with a 3-member research team for accomplishing the  same.   tuberculosis detector        (mar 2022 – may 2022)  https://github.com/sameertak/tuberculosis-detection   • made a machine learning algorithm which helps to identify  presence of tuberculosis.   • learned and applied various models which led to achieve an  accuracy of 98%.   • integrated to web using django.   salary predictor         (may 2022 – jun 2022)  https://github.com/sameertak/salary-predictor   • implemented machine learning algorithm to predict salary based  on some data.   • achieved an accuracy of 76%   • deployed using streamlit      education   • bachelor of technology, computer science  (aug 2019 – present)   indus university, ahmedabad          cgpa: 9.78/10   • higher secondary school              (jun 2018 – may 2019)   som-lalit school         64.9%   • secondary school               (jun 2018 – mar 2019)   som-lalit school         72%   adept at using python, sql and other programming languages to produce   clean code. well-organized and collaborative team player with strong   communication and analytical abilities.   summary   ude.my/uc-23636818-930f-4643-b2ba-7b596eedc44d https://www.linkedin.com/in/samir-tak-30997517a/ https://github.com/sameertak http://samir0951.pythonanywhere.com/ https://www.kaggle.com/samirtak http://www.linkedin.com/in/samir-tak/ https://github.com/sameertak http://samir0951.pythonanywhere.com/ www.kaggle.com/samirtak https://github.com/sameertak/pizza-delivery-app https://github.com/sameertak/tuberculosis-detection https://github.com/sameertak/salary-predictor  \n"
     ]
    }
   ],
   "source": [
    "text = text.replace(\"\\n\",\" \")\n",
    "text = text.replace(\"[^a-zA-Z0-9]\", \" \");  \n",
    "# re.sub('\\W+','', text)\n",
    "text = text.lower()\n",
    "print(text)"
   ]
  },
  {
   "cell_type": "code",
   "execution_count": 146,
   "id": "f3df8179",
   "metadata": {},
   "outputs": [
    {
     "data": {
      "text/plain": [
       "'                                                 s o f t w a r e  e n g i n e e r    samir tak   trainings   • complete python developer in 2022: zero   to mastery      certificate   • google data analytics professional   certificate   (may 2021 – july 2021)   (may 2022 – present)   projects   home: ahmedabad, gujarat 380013    email: taksamir08@gmail.com   phone: +91 95125-19226   contact   skills   analytical tools:   tableau   web-based aplications:    flask, django, javascript, html 5 &   css   analytical skills:    python, sql, postgresql, google   clouds, pandas, numpy, matplotlib,   seaborn   office tools:    microsoft word, excel, powerpoint   others:    adobe after effects, premiere pro   • programming with c and c++   certificate id- 6f06939b-c48b-55ba-e2f5-69e0f182bc39   (may 2020 – july 2020)   www.linkedin.com/in/samir-tak      www.github.com/sameertak   samir0951.pythonanywhere.com   www.kaggle.com/samirtak   pizza delivery application                   (jan 2022 – mar 2022)  https://github.com/sameertak/pizza-delivery-app   • designed an web app for connecting users with staff.   • used and applied python and django as well as programming skills  to create and test the project.   • worked with a 3-member research team for accomplishing the  same.   tuberculosis detector        (mar 2022 – may 2022)  https://github.com/sameertak/tuberculosis-detection   • made a machine learning algorithm which helps to identify  presence of tuberculosis.   • learned and applied various models which led to achieve an  accuracy of 98%.   • integrated to web using django.   salary predictor         (may 2022 – jun 2022)  https://github.com/sameertak/salary-predictor   • implemented machine learning algorithm to predict salary based  on some data.   • achieved an accuracy of 76%   • deployed using streamlit      education   • bachelor of technology, computer science  (aug 2019 – present)   indus university, ahmedabad          cgpa: 9.78/10   • higher secondary school              (jun 2018 – may 2019)   som-lalit school         64.9%   • secondary school               (jun 2018 – mar 2019)   som-lalit school         72%   adept at using python, sql and other programming languages to produce   clean code. well-organized and collaborative team player with strong   communication and analytical abilities.   summary   ude.my/uc-23636818-930f-4643-b2ba-7b596eedc44d https://www.linkedin.com/in/samir-tak-30997517a/ https://github.com/sameertak http://samir0951.pythonanywhere.com/ https://www.kaggle.com/samirtak http://www.linkedin.com/in/samir-tak/ https://github.com/sameertak http://samir0951.pythonanywhere.com/ www.kaggle.com/samirtak https://github.com/sameertak/pizza-delivery-app https://github.com/sameertak/tuberculosis-detection https://github.com/sameertak/salary-predictor  '"
      ]
     },
     "execution_count": 146,
     "metadata": {},
     "output_type": "execute_result"
    }
   ],
   "source": [
    "text"
   ]
  },
  {
   "cell_type": "code",
   "execution_count": 147,
   "id": "2fe09654",
   "metadata": {},
   "outputs": [],
   "source": [
    "content = {}\n",
    "indices = []\n",
    "keys = []\n",
    "for key in Keywords:\n",
    "    try:\n",
    "        content[key] = text[text.index(key) + len(key):]\n",
    "        indices.append(text.index(key))\n",
    "        keys.append(key)\n",
    "    except:\n",
    "        pass"
   ]
  },
  {
   "cell_type": "code",
   "execution_count": 148,
   "id": "ca91435e",
   "metadata": {},
   "outputs": [
    {
     "data": {
      "text/plain": [
       "['trainings', 'projects', 'skills', 'education', 'summary']"
      ]
     },
     "execution_count": 148,
     "metadata": {},
     "output_type": "execute_result"
    }
   ],
   "source": [
    "zipped_lists = zip(indices, keys)\n",
    "sorted_pairs = sorted(zipped_lists)\n",
    "sorted_pairs\n",
    "\n",
    "tuples = zip(*sorted_pairs)\n",
    "indices, keys = [ list(tuple) for tuple in  tuples]\n",
    "keys"
   ]
  },
  {
   "cell_type": "code",
   "execution_count": 149,
   "id": "6eb0efe0",
   "metadata": {},
   "outputs": [],
   "source": [
    "content = []\n",
    "for idx in range(len(indices)):\n",
    "    if idx != len(indices)-1:\n",
    "        content.append(text[indices[idx]: indices[idx+1]])\n",
    "    else:\n",
    "        content.append(text[indices[idx]: ])"
   ]
  },
  {
   "cell_type": "code",
   "execution_count": 150,
   "id": "8f478fd4",
   "metadata": {},
   "outputs": [],
   "source": [
    "for i in range(len(indices)):\n",
    "    parsed_content[keys[i]] = content[i]  "
   ]
  },
  {
   "cell_type": "code",
   "execution_count": 151,
   "id": "87895376",
   "metadata": {},
   "outputs": [
    {
     "data": {
      "text/plain": [
       "{'Name': 'samir tak',\n",
       " 'Role': 's o f t w a r e   e n g i n e e r',\n",
       " 'Phone': '95125-19226',\n",
       " 'Email': 'taksamir08@gmail.com',\n",
       " 'LinkedIn': 'www.linkedin.com/in/samir-tak',\n",
       " 'Github': 'www.github.com/sameertak',\n",
       " 'skills': '  analytical tools:   tableau   web-based aplications:    flask, django, javascript, html 5 &   css   analytical skills:    python, sql, postgresql, google   clouds, pandas, numpy, matplotlib,   seaborn   office tools:    microsoft word, excel, powerpoint   others:    adobe after effects, premiere pro   • programming with c and c++   certificate id- 6f06939b-c48b-55ba-e2f5-69e0f182bc39   (may 2020 – july 2020)   www.linkedin.com/in/samir-tak      www.github.com/sameertak   samir0951.pythonanywhere.com   www.kaggle.com/samirtak   pizza delivery application                   (jan 2022 – mar 2022)  https://github.com/sameertak/pizza-delivery-app   • designed an web app for connecting users with staff.   • used and applied python and django as well as programming skills  to create and test the project.   • worked with a 3-member research team for accomplishing the  same.   tuberculosis detector        (mar 2022 – may 2022)  https://github.com/sameertak/tuberculosis-detection   • made a machine learning algorithm which helps to identify  presence of tuberculosis.   • learned and applied various models which led to achieve an  accuracy of 98%.   • integrated to web using django.   salary predictor         (may 2022 – jun 2022)  https://github.com/sameertak/salary-predictor   • implemented machine learning algorithm to predict salary based  on some data.   • achieved an accuracy of 76%   • deployed using streamlit      ',\n",
       " 'trainings': '  • complete python developer in 2022: zero   to mastery      certificate   • google data analytics professional   certificate   (may 2021 – july 2021)   (may 2022 – present)   ',\n",
       " 'projects': '  home: ahmedabad, gujarat 380013    email: taksamir08@gmail.com   phone: +91 95125-19226   contact   ',\n",
       " 'education': '  • bachelor of technology, computer science  (aug 2019 – present)   indus university, ahmedabad          cgpa: 9.78/10   • higher secondary school              (jun 2018 – may 2019)   som-lalit school         64.9%   • secondary school               (jun 2018 – mar 2019)   som-lalit school         72%   adept at using python, sql and other programming languages to produce   clean code. well-organized and collaborative team player with strong   communication and analytical abilities.   ',\n",
       " 'summary': '  ude.my/uc-23636818-930f-4643-b2ba-7b596eedc44d https://www.linkedin.com/in/samir-tak-30997517a/ https://github.com/sameertak http://samir0951.pythonanywhere.com/ https://www.kaggle.com/samirtak http://www.linkedin.com/in/samir-tak/ https://github.com/sameertak http://samir0951.pythonanywhere.com/ www.kaggle.com/samirtak https://github.com/sameertak/pizza-delivery-app https://github.com/sameertak/tuberculosis-detection https://github.com/sameertak/salary-predictor  '}"
      ]
     },
     "execution_count": 151,
     "metadata": {},
     "output_type": "execute_result"
    }
   ],
   "source": [
    "new_dct = {}\n",
    "for i in parsed_content:\n",
    "    s = (parsed_content[i]).split(\" \" , 1)\n",
    "    dct[i] = (s[1:])[0]\n",
    "dct"
   ]
  },
  {
   "cell_type": "code",
   "execution_count": 152,
   "id": "c2311e70",
   "metadata": {},
   "outputs": [
    {
     "data": {
      "text/plain": [
       "{'Name': 'samir tak',\n",
       " 'Role': 's o f t w a r e   e n g i n e e r',\n",
       " 'Phone': '95125-19226',\n",
       " 'Email': 'taksamir08@gmail.com',\n",
       " 'LinkedIn': 'www.linkedin.com/in/samir-tak',\n",
       " 'Github': 'www.github.com/sameertak',\n",
       " 'skills': '  analytical tools:   tableau   web-based aplications:    flask, django, javascript, html 5 &   css   analytical skills:    python, sql, postgresql, google   clouds, pandas, numpy, matplotlib,   seaborn   office tools:    microsoft word, excel, powerpoint   others:    adobe after effects, premiere pro   • programming with c and c++   certificate id- 6f06939b-c48b-55ba-e2f5-69e0f182bc39   (may 2020 – july 2020)   www.linkedin.com/in/samir-tak      www.github.com/sameertak   samir0951.pythonanywhere.com   www.kaggle.com/samirtak   pizza delivery application                   (jan 2022 – mar 2022)  https://github.com/sameertak/pizza-delivery-app   • designed an web app for connecting users with staff.   • used and applied python and django as well as programming skills  to create and test the project.   • worked with a 3-member research team for accomplishing the  same.   tuberculosis detector        (mar 2022 – may 2022)  https://github.com/sameertak/tuberculosis-detection   • made a machine learning algorithm which helps to identify  presence of tuberculosis.   • learned and applied various models which led to achieve an  accuracy of 98%.   • integrated to web using django.   salary predictor         (may 2022 – jun 2022)  https://github.com/sameertak/salary-predictor   • implemented machine learning algorithm to predict salary based  on some data.   • achieved an accuracy of 76%   • deployed using streamlit      ',\n",
       " 'trainings': '  • complete python developer in 2022: zero   to mastery      certificate   • google data analytics professional   certificate   (may 2021 – july 2021)   (may 2022 – present)   ',\n",
       " 'projects': '  home: ahmedabad, gujarat 380013    email: taksamir08@gmail.com   phone: +91 95125-19226   contact   ',\n",
       " 'education': '  • bachelor of technology, computer science  (aug 2019 – present)   indus university, ahmedabad          cgpa: 9.78/10   • higher secondary school              (jun 2018 – may 2019)   som-lalit school         64.9%   • secondary school               (jun 2018 – mar 2019)   som-lalit school         72%   adept at using python, sql and other programming languages to produce   clean code. well-organized and collaborative team player with strong   communication and analytical abilities.   ',\n",
       " 'summary': '  ude.my/uc-23636818-930f-4643-b2ba-7b596eedc44d https://www.linkedin.com/in/samir-tak-30997517a/ https://github.com/sameertak http://samir0951.pythonanywhere.com/ https://www.kaggle.com/samirtak http://www.linkedin.com/in/samir-tak/ https://github.com/sameertak http://samir0951.pythonanywhere.com/ www.kaggle.com/samirtak https://github.com/sameertak/pizza-delivery-app https://github.com/sameertak/tuberculosis-detection https://github.com/sameertak/salary-predictor  '}"
      ]
     },
     "execution_count": 152,
     "metadata": {},
     "output_type": "execute_result"
    }
   ],
   "source": [
    "dct"
   ]
  },
  {
   "cell_type": "code",
   "execution_count": null,
   "id": "fc5b648e",
   "metadata": {},
   "outputs": [],
   "source": []
  }
 ],
 "metadata": {
  "kernelspec": {
   "display_name": "Python 3 (ipykernel)",
   "language": "python",
   "name": "python3"
  },
  "language_info": {
   "codemirror_mode": {
    "name": "ipython",
    "version": 3
   },
   "file_extension": ".py",
   "mimetype": "text/x-python",
   "name": "python",
   "nbconvert_exporter": "python",
   "pygments_lexer": "ipython3",
   "version": "3.9.7"
  }
 },
 "nbformat": 4,
 "nbformat_minor": 5
}
