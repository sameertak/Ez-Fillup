{
 "cells": [
  {
   "cell_type": "code",
   "execution_count": 10,
   "id": "037382cc",
   "metadata": {},
   "outputs": [],
   "source": [
    "from pdfminer.high_level import extract_text\n",
    "import regex as re\n",
    "import PyPDF2\n",
    "import requests\n",
    "import json\n",
    "import numpy as np\n",
    "import pandas as pd"
   ]
  },
  {
   "cell_type": "code",
   "execution_count": 2,
   "id": "f8b9a3ca",
   "metadata": {},
   "outputs": [
    {
     "name": "stderr",
     "output_type": "stream",
     "text": [
      "[nltk_data] Downloading package punkt to\n",
      "[nltk_data]     C:\\Users\\taksa\\AppData\\Roaming\\nltk_data...\n",
      "[nltk_data]   Package punkt is already up-to-date!\n",
      "[nltk_data] Downloading package averaged_perceptron_tagger to\n",
      "[nltk_data]     C:\\Users\\taksa\\AppData\\Roaming\\nltk_data...\n",
      "[nltk_data]   Package averaged_perceptron_tagger is already up-to-\n",
      "[nltk_data]       date!\n",
      "[nltk_data] Downloading package maxent_ne_chunker to\n",
      "[nltk_data]     C:\\Users\\taksa\\AppData\\Roaming\\nltk_data...\n",
      "[nltk_data]   Package maxent_ne_chunker is already up-to-date!\n",
      "[nltk_data] Downloading package words to\n",
      "[nltk_data]     C:\\Users\\taksa\\AppData\\Roaming\\nltk_data...\n",
      "[nltk_data]   Package words is already up-to-date!\n"
     ]
    },
    {
     "data": {
      "text/plain": [
       "True"
      ]
     },
     "execution_count": 2,
     "metadata": {},
     "output_type": "execute_result"
    }
   ],
   "source": [
    "import nltk\n",
    "nltk.download('punkt')\n",
    "nltk.download('averaged_perceptron_tagger')\n",
    "nltk.download('maxent_ne_chunker')\n",
    "nltk.download('words')"
   ]
  },
  {
   "cell_type": "code",
   "execution_count": 149,
   "id": "c5cc7870",
   "metadata": {},
   "outputs": [],
   "source": [
    "def extract_text_from_pdf(pdf_path):\n",
    "    return extract_text(pdf_path)\n",
    " \n",
    "texts = extract_text_from_pdf('Shrey Soni.pdf').lower().split('\\n')"
   ]
  },
  {
   "cell_type": "code",
   "execution_count": 150,
   "id": "8e078aec",
   "metadata": {},
   "outputs": [
    {
     "data": {
      "text/plain": [
       "['shrey soni',\n",
       " '',\n",
       " 'web developer',\n",
       " '',\n",
       " 't e c h n i c a l    s k i l l s',\n",
       " '',\n",
       " 'shreysoniprof@gmail.com',\n",
       " '',\n",
       " 'languages: htmls, css3, javascript, ruby, sql',\n",
       " 'frameworks: ruby on rails, stimulus, bulma',\n",
       " 'databases: sqlite, postgresql',\n",
       " 'testing: rspec',\n",
       " '',\n",
       " 'debugging: prybug, mozilla + chrome dev tools',\n",
       " 'tools: vscode, emmet, msoffice, google apps',\n",
       " 'deployment: heroku, replit',\n",
       " 'soft skills: team player, grit, life-long learner',\n",
       " '',\n",
       " 'f e a t u r e d    p r o j e c t s',\n",
       " '',\n",
       " 'flight booker: rails application using advanced',\n",
       " 'forms to work with multiple models',\n",
       " 'simultaneously  to  build  a  typical  flight  booking',\n",
       " 'eg.. select  airports,  dates  and  d y n a m i c a l l y',\n",
       " 'a d d   passengers. with mailing feature on',\n",
       " 'booking a flight.  the mvc  was  built  from',\n",
       " 'scratch.',\n",
       " '',\n",
       " 'github',\n",
       " '',\n",
       " 'private events: ruby on rails application where',\n",
       " 'authenticated  users  can  perform  crud  actions',\n",
       " 'on events, mark events private, and invite other',\n",
       " 'users to attend. mvc was built from scratch',\n",
       " '',\n",
       " 'github',\n",
       " '',\n",
       " 'c e r t i f i c a t i o n s',\n",
       " '',\n",
       " 'chess:  command',\n",
       " 'line  2  player  chess  game',\n",
       " 'implementing  all  of  chess  logic  to  complete  a',\n",
       " 'game  with  ability  to  save/load.  implemented',\n",
       " 'object-oriented  design  principles',\n",
       " 'for  code',\n",
       " 'scalability  and',\n",
       " 'reusability.  all  classes  and',\n",
       " 'message flow design built from scratch.',\n",
       " '',\n",
       " 'github  deployed',\n",
       " '',\n",
       " 'object oriented programming: ruby programs',\n",
       " 'using oop , including tic-tac-tae,  mastermind,',\n",
       " 'connect 4 and  hangman,  which  uses',\n",
       " 'serialization  to  allow the player to save/load',\n",
       " 'game state. used rspec to write tests and prybug',\n",
       " 'for debugging and deployed on replit.',\n",
       " '',\n",
       " 'tic-tae-toe  mastermind  connect-4  hangman',\n",
       " '',\n",
       " 'introduction to quantum computing                                                                       october 2020 — may 2021',\n",
       " '',\n",
       " '•  sponsored by ibm quantum and taught by qbit by qbit over 8 months.',\n",
       " '•  studied quantum computing fundamentals with basic quantum physics.',\n",
       " '•  algebra, calculus and python programming.',\n",
       " '•  use of quiskit library and programming on ibm quantum lab.',\n",
       " '',\n",
       " 'automate the boring stuff with python                                                    may 2020 — june 2020',\n",
       " '',\n",
       " '•  covers python fundamentals and data structures.',\n",
       " '•  automation of simple tasks like sending mails, working with ms office etc.',\n",
       " '•  learnt concepts like regex, logging, gui automation.',\n",
       " '',\n",
       " 'e d u c a t i o n',\n",
       " 'b.tech computer science engineering',\n",
       " 'indus university, ahmedabad',\n",
       " '',\n",
       " 'grade 12th (75%)',\n",
       " 'sncs, ahmedabad',\n",
       " '',\n",
       " 'grade 10th (9.6 cgpa)',\n",
       " 'udgam school, ahmedabad',\n",
       " '',\n",
       " '2019 —',\n",
       " '',\n",
       " '2018 — 2019',\n",
       " '',\n",
       " '2016 — 2017',\n",
       " '',\n",
       " '',\n",
       " '',\n",
       " '',\n",
       " '',\n",
       " '',\n",
       " '',\n",
       " '',\n",
       " '',\n",
       " '',\n",
       " '',\n",
       " '',\n",
       " '',\n",
       " '',\n",
       " '',\n",
       " '',\n",
       " '',\n",
       " '',\n",
       " '',\n",
       " '',\n",
       " '']"
      ]
     },
     "execution_count": 150,
     "metadata": {},
     "output_type": "execute_result"
    }
   ],
   "source": [
    "for i in range(len(texts)):\n",
    "    texts[i] =  texts[i].strip()\n",
    "texts"
   ]
  },
  {
   "cell_type": "code",
   "execution_count": 151,
   "id": "d802e878",
   "metadata": {},
   "outputs": [],
   "source": [
    "dct = {}\n",
    "dct['Name'] = texts[0]\n",
    "dct['Role'] = texts[2]"
   ]
  },
  {
   "cell_type": "code",
   "execution_count": 152,
   "id": "39fe7a24",
   "metadata": {},
   "outputs": [],
   "source": [
    "df = pd.read_csv('skills.csv')\n",
    "skills = df.iloc[:,2].values\n",
    "skills = list(set(skills))\n"
   ]
  },
  {
   "cell_type": "code",
   "execution_count": 153,
   "id": "55993f41",
   "metadata": {},
   "outputs": [],
   "source": [
    "skill_arr = []\n",
    "\n",
    "for text in texts:\n",
    "    for split in text.split(','):\n",
    "        for skill in skills:\n",
    "            if split.strip() in skill and split!='' and split != 'skills':\n",
    "                skill_arr.append(skill)"
   ]
  },
  {
   "cell_type": "code",
   "execution_count": 154,
   "id": "39cb3968",
   "metadata": {},
   "outputs": [
    {
     "data": {
      "text/plain": [
       "['css3',\n",
       " 'javascript',\n",
       " 'ruby-on-rails',\n",
       " 'ruby',\n",
       " 'sql-azure',\n",
       " 'linq-to-sql',\n",
       " 'unify-sqlbase',\n",
       " 'sql',\n",
       " 'microsoft-sql-ce',\n",
       " 'oracle-pl/sql',\n",
       " 'microsoft-sql-server-notification-services',\n",
       " 'nosql',\n",
       " 'mysql',\n",
       " 'microsoft-sql-ssrs',\n",
       " 'postgresql',\n",
       " 'sqlite-programming',\n",
       " 'sql-programming',\n",
       " 't-sql',\n",
       " 'mysql-programming',\n",
       " 'microsoft-sql-server-development',\n",
       " 'oracle-plsql',\n",
       " 'microsoft-sql-server-administration',\n",
       " 'microsoft-sql-ssas',\n",
       " 'microsoft-sql-server-service-broker',\n",
       " 'sqlite',\n",
       " 'postgresql-programming',\n",
       " 'postgresql',\n",
       " 'postgresql-programming',\n",
       " 'github',\n",
       " 'github']"
      ]
     },
     "execution_count": 154,
     "metadata": {},
     "output_type": "execute_result"
    }
   ],
   "source": [
    "skill_arr"
   ]
  },
  {
   "cell_type": "code",
   "execution_count": 155,
   "id": "fdbed129",
   "metadata": {},
   "outputs": [],
   "source": [
    "email_re = r'\\b[A-Za-z0-9._%+-]+@[A-Za-z0-9.-]+\\.[A-Z|a-z]{2,}\\b'\n",
    "phone_re = r'^(?:(?:\\+|0{0,2})91?(\\s)?(\\s*[\\-]\\s*)?|[0]?)?([789]\\d{4})?(\\s*[\\-]\\s*)?(\\d{5})'\n",
    "linkedin_re = r'([\\w]+\\.)?linkedin.com'\n",
    "git_re = r'([\\w]+\\.)?github.com'\n",
    "res_skills = []\n",
    "\n",
    "for text in texts:\n",
    "    for split_text in text.split(' '):\n",
    "        if(re.fullmatch(email_re, split_text)):\n",
    "            dct['Email'] = split_text\n",
    "        if(re.fullmatch(phone_re, split_text)):\n",
    "            dct['Phone'] = split_text\n",
    "        if(re.match(linkedin_re, split_text)):\n",
    "            dct['LinkedIn'] = split_text\n",
    "        if(re.match(git_re, split_text)):\n",
    "            dct['Github'] = split_text\n",
    "dct['Skills'] = skill_arr"
   ]
  },
  {
   "cell_type": "code",
   "execution_count": 156,
   "id": "c2311e70",
   "metadata": {},
   "outputs": [
    {
     "data": {
      "text/plain": [
       "{'Name': 'shrey soni',\n",
       " 'Role': 'web developer',\n",
       " 'Email': 'shreysoniprof@gmail.com',\n",
       " 'Skills': ['css3',\n",
       "  'javascript',\n",
       "  'ruby-on-rails',\n",
       "  'ruby',\n",
       "  'sql-azure',\n",
       "  'linq-to-sql',\n",
       "  'unify-sqlbase',\n",
       "  'sql',\n",
       "  'microsoft-sql-ce',\n",
       "  'oracle-pl/sql',\n",
       "  'microsoft-sql-server-notification-services',\n",
       "  'nosql',\n",
       "  'mysql',\n",
       "  'microsoft-sql-ssrs',\n",
       "  'postgresql',\n",
       "  'sqlite-programming',\n",
       "  'sql-programming',\n",
       "  't-sql',\n",
       "  'mysql-programming',\n",
       "  'microsoft-sql-server-development',\n",
       "  'oracle-plsql',\n",
       "  'microsoft-sql-server-administration',\n",
       "  'microsoft-sql-ssas',\n",
       "  'microsoft-sql-server-service-broker',\n",
       "  'sqlite',\n",
       "  'postgresql-programming',\n",
       "  'postgresql',\n",
       "  'postgresql-programming',\n",
       "  'github',\n",
       "  'github']}"
      ]
     },
     "execution_count": 156,
     "metadata": {},
     "output_type": "execute_result"
    }
   ],
   "source": [
    "dct"
   ]
  },
  {
   "cell_type": "code",
   "execution_count": null,
   "id": "ab047023",
   "metadata": {},
   "outputs": [],
   "source": []
  }
 ],
 "metadata": {
  "kernelspec": {
   "display_name": "Python 3 (ipykernel)",
   "language": "python",
   "name": "python3"
  },
  "language_info": {
   "codemirror_mode": {
    "name": "ipython",
    "version": 3
   },
   "file_extension": ".py",
   "mimetype": "text/x-python",
   "name": "python",
   "nbconvert_exporter": "python",
   "pygments_lexer": "ipython3",
   "version": "3.9.7"
  }
 },
 "nbformat": 4,
 "nbformat_minor": 5
}
